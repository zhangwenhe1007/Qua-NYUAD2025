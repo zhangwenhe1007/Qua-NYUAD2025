{
  "nbformat": 4,
  "nbformat_minor": 0,
  "metadata": {
    "colab": {
      "provenance": [],
      "authorship_tag": "ABX9TyMckeOkiCyM43xm9AoMWfcL",
      "include_colab_link": true
    },
    "kernelspec": {
      "name": "python3",
      "display_name": "Python 3"
    },
    "language_info": {
      "name": "python"
    }
  },
  "cells": [
    {
      "cell_type": "markdown",
      "metadata": {
        "id": "view-in-github",
        "colab_type": "text"
      },
      "source": [
        "<a href=\"https://colab.research.google.com/github/zhangwenhe1007/Qua-NYUAD2025/blob/main/greedy_algorithm.ipynb\" target=\"_parent\"><img src=\"https://colab.research.google.com/assets/colab-badge.svg\" alt=\"Open In Colab\"/></a>"
      ]
    },
    {
      "cell_type": "code",
      "execution_count": null,
      "metadata": {
        "id": "TLelAWUkYnLt"
      },
      "outputs": [],
      "source": [
        "import pandas as pd\n",
        "\n",
        "# Reload dataset\n",
        "filtered_df = pd.read_csv(\"filtered_DLRM_trace.csv\")\n",
        "\n",
        "# Take a manageable subset for demonstration, e.g., first 100 jobs\n",
        "subset_df = filtered_df.head(2000).copy()\n",
        "\n",
        "# Group by app_name and preserve order within each app group\n",
        "subset_df_sorted = subset_df.sort_values(by=['app_name' , 'creation_time'])\n",
        "\n",
        "# Simulated refined machine specs\n",
        "NUM_MACHINES = 30\n",
        "cap_cpu = 256\n",
        "cap_gpu = 8\n",
        "cap_memory = 1024\n",
        "\n",
        "# Initialize machines with new specs\n",
        "machines_refined = [{\n",
        "    'id': f'machine_{j}',\n",
        "    'remaining_cpu': cap_cpu,\n",
        "    'remaining_gpu': cap_gpu,\n",
        "    'remaining_memory': cap_memory,\n",
        "    'assigned_jobs': []\n",
        "} for j in range(NUM_MACHINES)]\n",
        "\n",
        "# Greedy FCFS-style assignment\n",
        "for idx, row in subset_df_sorted.iterrows():\n",
        "    for machine in machines_refined:\n",
        "        if (row['cpu_request'] <= machine['remaining_cpu'] and\n",
        "            row['gpu_request'] <= machine['remaining_gpu'] and\n",
        "            row['memory_request'] <= machine['remaining_memory']):\n",
        "\n",
        "            # Assign job\n",
        "            machine['remaining_cpu'] -= row['cpu_request']\n",
        "            machine['remaining_gpu'] -= row['gpu_request']\n",
        "            machine['remaining_memory'] -= row['memory_request']\n",
        "            machine['assigned_jobs'].append({\n",
        "                'instance_sn': row['instance_sn'],\n",
        "                'app_name': row['app_name'],\n",
        "                'estimated_runtime': row['estimated_runtime'],\n",
        "                'cpu_request': row['cpu_request'],\n",
        "                'gpu_request': row['gpu_request'],\n",
        "                'memory_request': row['memory_request']\n",
        "            })\n",
        "            break  # Move to next job once assigned\n",
        "\n",
        "# Prepare detailed summary\n",
        "machines_assignment_fcfs = [{\n",
        "    'machine_id': m['id'],\n",
        "    'num_jobs': len(m['assigned_jobs']),\n",
        "    'assigned_job_ids': [job['instance_sn'] for job in m['assigned_jobs']],\n",
        "    'remaining_cpu': m['remaining_cpu'],\n",
        "    'remaining_gpu': m['remaining_gpu'],\n",
        "    'remaining_memory': m['remaining_memory'],\n",
        "    'total_runtime': sum(job['estimated_runtime'] for job in m['assigned_jobs'])\n",
        "} for m in machines_refined]\n",
        "\n",
        "# Total tasks scheduled\n",
        "total_tasks_fcfs = sum(len(m['assigned_jobs']) for m in machines_refined)\n",
        "\n",
        "machines_assignment_fcfs, total_tasks_fcfs\n",
        "\n"
      ]
    }
  ]
}
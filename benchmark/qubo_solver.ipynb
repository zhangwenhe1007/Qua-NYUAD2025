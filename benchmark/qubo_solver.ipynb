{
 "cells": [
  {
   "cell_type": "code",
   "execution_count": 3,
   "metadata": {
    "colab": {
     "base_uri": "https://localhost:8080/"
    },
    "id": "yfD-1-Zw4Wgn",
    "outputId": "22323928-6bc0-4cdb-d371-53b4807f94d7"
   },
   "outputs": [],
   "source": [
    "import pandas as pd\n",
    "import numpy as np\n",
    "from qiskit_algorithms.utils import algorithm_globals\n",
    "from qiskit_algorithms import QAOA, NumPyMinimumEigensolver\n",
    "from qiskit_algorithms.optimizers import COBYLA\n",
    "from qiskit.primitives import Sampler\n",
    "from qiskit_optimization.algorithms import MinimumEigenOptimizer\n",
    "from qiskit_optimization import QuadraticProgram"
   ]
  },
  {
   "cell_type": "code",
   "execution_count": 8,
   "metadata": {},
   "outputs": [
    {
     "name": "stdout",
     "output_type": "stream",
     "text": [
      "     app_name  cpu_request  gpu_request  memory_request\n",
      "0      app_23            8            1              40\n",
      "1       app_0           12            1             120\n",
      "2      app_18            8            1              40\n",
      "3     app_136            8            1              32\n",
      "4     app_136            8            1              32\n",
      "...       ...          ...          ...             ...\n",
      "1995  app_111            8            1              40\n",
      "1996   app_20            8            1              40\n",
      "1997   app_22            8            1              40\n",
      "1998   app_23            8            1              40\n",
      "1999   app_27            8            1              40\n",
      "\n",
      "[2000 rows x 4 columns]\n"
     ]
    }
   ],
   "source": [
    "# DataFrame to be used\n",
    "# The data is processed dataset of the DLRM trace from the Alibaba cloud data-center\n",
    "csv_path = \"filtered_DLRM_trace.csv\"\n",
    "\n",
    "# Parameters:\n",
    "job_num = 2000   #Number of jobs to be processed\n",
    "n = 20           #Number of machines\n",
    "gmax = 8         #Max number of GPUs per machine\n",
    "cmax = 256       #Max number of CPUs per machine\n",
    "mem_max = 1024   #Max memory per machine (in MB)\n",
    "threshold = 0.4  #Threshold for the number of GPUs or CPUs per job to be considered heavy job\n",
    "\n",
    "df = pd.read_csv(csv_path, usecols=['app_name', 'cpu_request', 'gpu_request', 'memory_request'])\n",
    "\n",
    "# Filter by jobs with most GPU requests for demonstration\n",
    "df = df.sort_values(by='gpu_request', ascending=False)\n",
    "\n",
    "# Select only the first 2000 jobs\n",
    "df = df.head(job_num)\n",
    "\n",
    "# Reset the index to normalize it\n",
    "df = df.reset_index(drop=True)\n",
    "\n",
    "df[\"memory_request\"] = df[\"memory_request\"].round().astype(int)\n",
    "print(df)"
   ]
  },
  {
   "cell_type": "code",
   "execution_count": 11,
   "metadata": {},
   "outputs": [
    {
     "name": "stdout",
     "output_type": "stream",
     "text": [
      "     app_name  cpu_request  gpu_request  memory_request      priority\n",
      "0      app_23            8            1              40  1.000000e+00\n",
      "1       app_0           12            1             120  1.000000e+00\n",
      "2      app_18            8            1              40  1.000000e+00\n",
      "3     app_136            8            1              32  1.000000e+00\n",
      "4     app_136            8            1              32  6.000000e-01\n",
      "...       ...          ...          ...             ...           ...\n",
      "1995  app_111            8            1              40  1.316217e-05\n",
      "1996   app_20            8            1              40  9.077815e-42\n",
      "1997   app_22            8            1              40  8.082813e-12\n",
      "1998   app_23            8            1              40  1.039456e-10\n",
      "1999   app_27            8            1              40  6.188655e-09\n",
      "\n",
      "[2000 rows x 5 columns]\n"
     ]
    }
   ],
   "source": [
    "alpha = 0.6  # Adjustable variable for priotity calculation\n",
    "\n",
    "# Create a dictionary to track the appearance count of each app_name\n",
    "app_count = {}\n",
    "\n",
    "# Function to calculate priority based on the number of appearances\n",
    "# The first appearance of an app_name will have a priority of 1, and subsequent appearances will have a priority of alpha^(n-1)\n",
    "def calculate_priority(app_name):\n",
    "    if app_name not in app_count:\n",
    "        app_count[app_name] = 1\n",
    "        return 1  # First appearance, priority is 1\n",
    "    else:\n",
    "        app_count[app_name] += 1\n",
    "        return alpha ** (app_count[app_name] - 1)  # Subsequent appearances\n",
    "\n",
    "# Apply the function to calculate priority for each row\n",
    "df['priority'] = df['app_name'].apply(calculate_priority)\n",
    "\n",
    "print(df)"
   ]
  },
  {
   "cell_type": "code",
   "execution_count": 12,
   "metadata": {},
   "outputs": [
    {
     "name": "stdout",
     "output_type": "stream",
     "text": [
      "0       1.000000e+00\n",
      "1       1.000000e+00\n",
      "2       1.000000e+00\n",
      "3       1.000000e+00\n",
      "4       6.000000e-01\n",
      "            ...     \n",
      "1995    1.316217e-05\n",
      "1996    9.077815e-42\n",
      "1997    8.082813e-12\n",
      "1998    1.039456e-10\n",
      "1999    6.188655e-09\n",
      "Name: priority, Length: 2000, dtype: float64\n"
     ]
    }
   ],
   "source": [
    "print(df['priority'])"
   ]
  },
  {
   "cell_type": "code",
   "execution_count": 19,
   "metadata": {},
   "outputs": [],
   "source": [
    "qp = QuadraticProgram()\n",
    "\n",
    "# Add binary variables for each job-machine combination\n",
    "# The variable name is in the format \"job{i}machine{j}\"\n",
    "# where i is the job index and j is the machine index\n",
    "for i in range(1, job_num + 1):\n",
    "    for j in range(1, n + 1):\n",
    "        qp.binary_var(f\"job{i}machine{j}\")\n",
    "\n",
    "linear = {}\n",
    "# Add objective function to be optimized. This is the total number of jobs assigned to all machines, while\n",
    "# taking into account the priority of each job.\n",
    "# The objective function is a linear function of the binary variables, where each variable contributes its priority\n",
    "for i in range(1, job_num + 1):\n",
    "    for j in range(1, n + 1):\n",
    "        linear[f\"job{i}machine{j}\"] = -df.loc[i - 1, 'priority']\n",
    "qp.minimize(linear=linear)\n",
    "#print(qp.prettyprint())"
   ]
  },
  {
   "cell_type": "code",
   "execution_count": 20,
   "metadata": {},
   "outputs": [],
   "source": [
    "#GPU capacity constraint\n",
    "# The total number of GPUs assigned to each machine cannot exceed gmax\n",
    "# The constraint is defined for each machine, where the sum of the GPU requests of all jobs assigned to that machine\n",
    "# must be less than or equal to gmax\n",
    "for i in range(1, n + 1):\n",
    "    machines = {}\n",
    "\n",
    "    for j in range(1, job_num + 1):\n",
    "        machines[f\"job{j}machine{i}\"] = df.loc[j - 1, 'gpu_request']\n",
    "\n",
    "    qp.linear_constraint(\n",
    "        linear=machines,\n",
    "        sense=\"LE\",\n",
    "        rhs=gmax,\n",
    "        name=f\"gpu_capacity_{i}\",\n",
    "    )\n",
    "\n",
    "#CPU capacity constraint\n",
    "# The total number of CPUs assigned to each machine cannot exceed cmax\n",
    "# The constraint is defined for each machine, where the sum of the CPU requests of all jobs assigned to that machine\n",
    "# must be less than or equal to cmax\n",
    "for i in range(1, n + 1):\n",
    "    machines = {}\n",
    "    for j in range(1, job_num + 1):\n",
    "        machines[f\"job{j}machine{i}\"] = df.loc[j - 1, 'cpu_request']\n",
    "\n",
    "    qp.linear_constraint(\n",
    "        linear=machines,\n",
    "        sense=\"LE\",\n",
    "        rhs=cmax,\n",
    "        name=f\"cpu_capacity_{i}\",\n",
    "    )\n",
    "\n",
    "#Memory capacity constraint\n",
    "# The total memory assigned to each machine cannot exceed mem_max\n",
    "# The constraint is defined for each machine, where the sum of the memory requests of all jobs assigned to that machine\n",
    "# must be less than or equal to mem_max\n",
    "for i in range(1, n + 1):\n",
    "    machines = {}\n",
    "    for j in range(1, job_num + 1):\n",
    "        machines[f\"job{j}machine{i}\"] = df.loc[j - 1, 'memory_request']\n",
    "\n",
    "    qp.linear_constraint(\n",
    "        linear=machines,\n",
    "        sense=\"LE\",\n",
    "        rhs=mem_max,\n",
    "        name=f\"memory_capacity_{i}\",\n",
    "    )\n",
    "\n",
    "# Each job can only be assigned to one machine\n",
    "# The constraint is defined for each job, where the sum of the binary variables for that job across all machines\n",
    "# must be equal to 1\n",
    "# This ensures that each job is assigned to exactly one machine\n",
    "for i in range(1, job_num + 1):\n",
    "    linear = {}\n",
    "    for j in range(1, n + 1):\n",
    "        linear[f\"job{i}machine{j}\"] = 1\n",
    "\n",
    "    qp.linear_constraint(\n",
    "        linear=linear,\n",
    "        sense=\"EQ\",\n",
    "        rhs=1,\n",
    "        name=f\"job_assignment_{i}\",\n",
    "    )\n",
    "\n",
    "# Two jobs that take more than a threshold of the GPU/CPU/Memory cannot be assigned to the same machine\n",
    "for i in range(1, job_num + 1):\n",
    "    for j in range(i + 1, job_num + 1):\n",
    "        # Check if both jobs are heavy based on GPU, CPU, or memory\n",
    "        if (\n",
    "            (df.loc[i - 1, 'gpu_request'] > gmax * 0.3 and df.loc[j - 1, 'gpu_request'] > gmax * threshold) or\n",
    "            (df.loc[i - 1, 'cpu_request'] > cmax * threshold and df.loc[j - 1, 'cpu_request'] > cmax * threshold) or\n",
    "            (df.loc[i - 1, 'memory_request'] > mem_max * threshold and df.loc[j - 1, 'memory_request'] > mem_max * threshold)\n",
    "        ):\n",
    "            for k in range(1, n + 1):\n",
    "                qp.linear_constraint(\n",
    "                    linear={f\"job{i}machine{k}\": 1, f\"job{j}machine{k}\": 1},\n",
    "                    sense=\"LE\",\n",
    "                    rhs=1,\n",
    "                    name=f\"conflict_{i}_{j}_{k}\",\n",
    "                )\n",
    "\n",
    "#print(qp.prettyprint())\n"
   ]
  },
  {
   "cell_type": "code",
   "execution_count": null,
   "metadata": {},
   "outputs": [],
   "source": [
    "# Instantiating the Qiskit Minimum Eigensolver with Sampler and COBYLA optimizer\n",
    "# The Qiskit Minimum Eigensolver is used to solve the quadratic program (QP) using the QAOA algorithm\n",
    "# The Sampler is used to sample the solutions, and the COBYLA optimizer is used to optimize the parameters\n",
    "# The initial point for the optimizer is set to [0.0, 0.0]\n",
    "algorithm_globals.random_seed = 42  # Set a random seed for reproducibility\n",
    "qaoa_mes = QAOA(sampler=Sampler(), optimizer=COBYLA(), initial_point=[0.0, 0.0])\n",
    "qaoa = MinimumEigenOptimizer(qaoa_mes)\n",
    "qaoa_result = qaoa.solve(qp)\n",
    "print(qaoa_result.prettyprint())"
   ]
  }
 ],
 "metadata": {
  "colab": {
   "authorship_tag": "ABX9TyNMP1Ois5KMAfzFoNOl6Ggz",
   "include_colab_link": true,
   "provenance": [],
   "toc_visible": true
  },
  "kernelspec": {
   "display_name": "Python 3",
   "language": "python",
   "name": "python3"
  },
  "language_info": {
   "codemirror_mode": {
    "name": "ipython",
    "version": 3
   },
   "file_extension": ".py",
   "mimetype": "text/x-python",
   "name": "python",
   "nbconvert_exporter": "python",
   "pygments_lexer": "ipython3",
   "version": "3.13.3"
  }
 },
 "nbformat": 4,
 "nbformat_minor": 4
}
